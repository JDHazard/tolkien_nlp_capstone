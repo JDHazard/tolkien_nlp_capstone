{
 "cells": [
  {
   "cell_type": "markdown",
   "metadata": {},
   "source": [
    "### Word2Vec -- Comparing Word Vectors in both Bag of Words (CBOW) & Skip-Gram (SKIPG) Models"
   ]
  },
  {
   "cell_type": "code",
   "execution_count": 1,
   "metadata": {},
   "outputs": [],
   "source": [
    "import pandas as pd\n",
    "\n",
    "import gensim \n",
    "from gensim.models import Word2Vec \n",
    "\n",
    "from nltk.tokenize import sent_tokenize, word_tokenize "
   ]
  },
  {
   "cell_type": "markdown",
   "metadata": {},
   "source": [
    "### Import and Tokenize Lord of the Rings text "
   ]
  },
  {
   "cell_type": "code",
   "execution_count": 2,
   "metadata": {},
   "outputs": [],
   "source": [
    "with open('./the_lord_of_the_rings/Lord_of_the_Rings_complete.txt', 'r') as file:\n",
    "    lotr = file.read().replace('\\n', '')"
   ]
  },
  {
   "cell_type": "code",
   "execution_count": 3,
   "metadata": {},
   "outputs": [],
   "source": [
    "lotr_sent = []\n",
    "# iterate through each sentence in the file \n",
    "for i in sent_tokenize(lotr): \n",
    "    temp = [] \n",
    "      \n",
    "    # tokenize the sentence into words \n",
    "    for j in word_tokenize(i): \n",
    "        temp.append(j.lower()) \n",
    "  \n",
    "    lotr_sent.append(temp) "
   ]
  },
  {
   "cell_type": "code",
   "execution_count": 4,
   "metadata": {},
   "outputs": [
    {
     "data": {
      "text/plain": [
       "['gandalf',\n",
       " 'stayed',\n",
       " 'in',\n",
       " 'the',\n",
       " 'shire',\n",
       " 'for',\n",
       " 'over',\n",
       " 'two',\n",
       " 'months',\n",
       " '.']"
      ]
     },
     "execution_count": 4,
     "metadata": {},
     "output_type": "execute_result"
    }
   ],
   "source": [
    "lotr_sent[1971]"
   ]
  },
  {
   "cell_type": "code",
   "execution_count": 5,
   "metadata": {},
   "outputs": [],
   "source": [
    "# Create CBOW model \n",
    "\n",
    "wvec = gensim.models.Word2Vec(lotr_sent,     # Corpus of data.\n",
    "                              min_count = 1, # Ignores words below this threshold.\n",
    "                              size = 100,    # How many dimensions do you want in your word vector?\n",
    "                              window = 5)    # Number of \"worker threads\" to use (parallelizes process)."
   ]
  },
  {
   "cell_type": "code",
   "execution_count": 6,
   "metadata": {},
   "outputs": [],
   "source": [
    "# Create Skip Gram model for comparison\n",
    "\n",
    "skipg = gensim.models.Word2Vec(lotr_sent,      # Corpus of data.\n",
    "                                min_count = 1, # Ignores words below this threshold.\n",
    "                                size = 100,    # How many dimensions do you want in your word vector?\n",
    "                                window = 5,    # Number of \"worker threads\" to use (parallelizes process).\n",
    "                                sg = 1)        # SG = 1 uses SkipGram, SG = 0 uses CBOW (default)."
   ]
  },
  {
   "cell_type": "code",
   "execution_count": 7,
   "metadata": {},
   "outputs": [
    {
     "data": {
      "text/plain": [
       "[('enemy', 0.8938414454460144),\n",
       " ('journey', 0.88094562292099),\n",
       " ('company', 0.8700255155563354),\n",
       " ('word', 0.8694908022880554),\n",
       " ('story', 0.8671610355377197),\n",
       " ('strength', 0.8656622171401978),\n",
       " ('place', 0.8581945300102234),\n",
       " ('work', 0.8575025796890259),\n",
       " ('council', 0.8515850305557251),\n",
       " ('just', 0.8482983708381653),\n",
       " ('tale', 0.8472678661346436),\n",
       " ('parting', 0.8464469909667969),\n",
       " ('watch', 0.8458412885665894),\n",
       " ('choice', 0.8444128036499023),\n",
       " ('day', 0.8408998250961304),\n",
       " ('beginning', 0.8391226530075073),\n",
       " ('home', 0.8389843702316284),\n",
       " ('ending', 0.8388870358467102),\n",
       " ('burden', 0.8375438451766968),\n",
       " ('same', 0.8366794586181641),\n",
       " ('given', 0.8358065485954285),\n",
       " ('power', 0.8343549370765686),\n",
       " ('way', 0.8336449861526489),\n",
       " ('errand', 0.8334192037582397),\n",
       " ('quarrel', 0.8332650065422058)]"
      ]
     },
     "execution_count": 7,
     "metadata": {},
     "output_type": "execute_result"
    }
   ],
   "source": [
    "wvec.wv.most_similar('ring', topn=25)"
   ]
  },
  {
   "cell_type": "code",
   "execution_count": 8,
   "metadata": {},
   "outputs": [
    {
     "data": {
      "text/plain": [
       "[('enemy', 0.8354686498641968),\n",
       " ('burden', 0.806827187538147),\n",
       " ('council', 0.7940381765365601),\n",
       " ('strength', 0.7914930582046509),\n",
       " ('wisdom', 0.7823638916015625),\n",
       " ('fate', 0.7779597640037537),\n",
       " ('saruman', 0.7767810821533203),\n",
       " ('family', 0.7741245031356812),\n",
       " ('sauron', 0.7740589380264282),\n",
       " ('account', 0.7728832364082336),\n",
       " ('finger', 0.7724927067756653),\n",
       " ('folly', 0.771098792552948),\n",
       " ('grief', 0.7706279158592224),\n",
       " ('death', 0.7664724588394165),\n",
       " ('weight', 0.7655009031295776),\n",
       " ('treasure', 0.7619128227233887),\n",
       " ('desire', 0.7619084119796753),\n",
       " ('quest', 0.7606112360954285),\n",
       " ('master', 0.7590110301971436),\n",
       " ('word', 0.7563979029655457),\n",
       " ('final', 0.7549488544464111),\n",
       " ('madness', 0.7526630759239197),\n",
       " ('key', 0.7524664998054504),\n",
       " ('bearer', 0.7504841685295105),\n",
       " ('mood', 0.7502917051315308)]"
      ]
     },
     "execution_count": 8,
     "metadata": {},
     "output_type": "execute_result"
    }
   ],
   "source": [
    "skipg.wv.most_similar('ring', topn=25)"
   ]
  },
  {
   "cell_type": "code",
   "execution_count": 9,
   "metadata": {},
   "outputs": [
    {
     "data": {
      "text/plain": [
       "[('bilbo', 0.9474315643310547),\n",
       " ('she', 0.9363054037094116),\n",
       " ('boromir', 0.9242907762527466),\n",
       " ('gandalf', 0.9128257036209106),\n",
       " ('faramir', 0.9108299612998962),\n",
       " ('frodo', 0.9093053936958313),\n",
       " ('strider', 0.9077584147453308),\n",
       " ('treebeard', 0.9054824113845825),\n",
       " ('sam', 0.89302659034729),\n",
       " ('everyone', 0.8924288749694824)]"
      ]
     },
     "execution_count": 9,
     "metadata": {},
     "output_type": "execute_result"
    }
   ],
   "source": [
    "wvec.wv.most_similar('gollum')"
   ]
  },
  {
   "cell_type": "code",
   "execution_count": 10,
   "metadata": {},
   "outputs": [
    {
     "data": {
      "text/plain": [
       "[('pippin', 0.8794245719909668),\n",
       " ('frodo', 0.8741874098777771),\n",
       " ('treebeard', 0.8672569990158081),\n",
       " ('he', 0.8524508476257324),\n",
       " ('sam', 0.8519383668899536),\n",
       " ('shagrat', 0.8455409407615662),\n",
       " ('strider', 0.8425599336624146),\n",
       " ('himself', 0.8330941200256348),\n",
       " ('grishnbkh', 0.8315867185592651),\n",
       " ('gandalf', 0.826464056968689)]"
      ]
     },
     "execution_count": 10,
     "metadata": {},
     "output_type": "execute_result"
    }
   ],
   "source": [
    "skipg.wv.most_similar('gollum')"
   ]
  },
  {
   "cell_type": "code",
   "execution_count": 11,
   "metadata": {},
   "outputs": [
    {
     "data": {
      "text/plain": [
       "[('sam', 0.9837819933891296),\n",
       " ('pippin', 0.9562926292419434),\n",
       " ('gandalf', 0.9426122903823853),\n",
       " ('merry', 0.9376106262207031),\n",
       " ('aragorn', 0.9370484948158264),\n",
       " ('she', 0.9118833541870117),\n",
       " ('strider', 0.9112873673439026),\n",
       " ('faramir', 0.9096335768699646),\n",
       " ('gollum', 0.9093053936958313),\n",
       " ('boromir', 0.9041380286216736)]"
      ]
     },
     "execution_count": 11,
     "metadata": {},
     "output_type": "execute_result"
    }
   ],
   "source": [
    "wvec.wv.most_similar('frodo')"
   ]
  },
  {
   "cell_type": "code",
   "execution_count": 12,
   "metadata": {},
   "outputs": [
    {
     "data": {
      "text/plain": [
       "[('pippin', 0.9122840166091919),\n",
       " ('gollum', 0.8741874098777771),\n",
       " ('sam', 0.8641220331192017),\n",
       " ('merry', 0.8606770634651184),\n",
       " ('strider', 0.8568487167358398),\n",
       " ('butterbur', 0.8523883819580078),\n",
       " ('treebeard', 0.8486931920051575),\n",
       " ('beregond', 0.843740701675415),\n",
       " ('farmer', 0.8267589211463928),\n",
       " ('bilbo', 0.8228003978729248)]"
      ]
     },
     "execution_count": 12,
     "metadata": {},
     "output_type": "execute_result"
    }
   ],
   "source": [
    "skipg.wv.most_similar('frodo')"
   ]
  },
  {
   "cell_type": "code",
   "execution_count": 13,
   "metadata": {},
   "outputs": [
    {
     "data": {
      "text/plain": [
       "[('aragorn', 0.9658728837966919),\n",
       " ('merry', 0.9483356475830078),\n",
       " ('strider', 0.9426972270011902),\n",
       " ('frodo', 0.9426122903823853),\n",
       " ('sam', 0.9408676624298096),\n",
       " ('boromir', 0.9362186193466187),\n",
       " ('faramir', 0.9255779981613159),\n",
       " ('pippin', 0.9237229228019714),\n",
       " ('legolas', 0.919039785861969),\n",
       " ('gollum', 0.9128257036209106)]"
      ]
     },
     "execution_count": 13,
     "metadata": {},
     "output_type": "execute_result"
    }
   ],
   "source": [
    "wvec.wv.most_similar('gandalf')"
   ]
  },
  {
   "cell_type": "code",
   "execution_count": 14,
   "metadata": {},
   "outputs": [
    {
     "data": {
      "text/plain": [
       "[('faramir', 0.9170253872871399),\n",
       " ('aragorn', 0.916953444480896),\n",
       " ('strider', 0.911169171333313),\n",
       " ('beregond', 0.9089959263801575),\n",
       " ('jomer', 0.9006110429763794),\n",
       " ('boromir', 0.8966839909553528),\n",
       " ('treebeard', 0.8934426307678223),\n",
       " ('haldir', 0.8845245838165283),\n",
       " ('glorfindel', 0.883939266204834),\n",
       " ('farmer', 0.8756296634674072)]"
      ]
     },
     "execution_count": 14,
     "metadata": {},
     "output_type": "execute_result"
    }
   ],
   "source": [
    "skipg.wv.most_similar('gandalf')"
   ]
  },
  {
   "cell_type": "code",
   "execution_count": 15,
   "metadata": {},
   "outputs": [
    {
     "data": {
      "text/plain": [
       "[('heralds', 0.9766462445259094),\n",
       " ('cracking', 0.9760091304779053),\n",
       " ('thorin', 0.9759398698806763),\n",
       " ('arod', 0.9752633571624756),\n",
       " ('3', 0.9744923710823059),\n",
       " ('terrific', 0.9742535948753357),\n",
       " ('den', 0.9732915163040161),\n",
       " ('cracker', 0.9715051651000977),\n",
       " ('water-lilies', 0.9709609746932983),\n",
       " ('shivering', 0.9694401025772095)]"
      ]
     },
     "execution_count": 15,
     "metadata": {},
     "output_type": "execute_result"
    }
   ],
   "source": [
    "wvec.wv.most_similar('arwen')"
   ]
  },
  {
   "cell_type": "code",
   "execution_count": 16,
   "metadata": {},
   "outputs": [
    {
     "data": {
      "text/plain": [
       "[('arod', 0.9686731696128845),\n",
       " ('alert', 0.9684125185012817),\n",
       " ('bregalad', 0.9645286202430725),\n",
       " ('stuttering', 0.9597437977790833),\n",
       " ('drowsily', 0.9588397741317749),\n",
       " ('pillows', 0.9583908319473267),\n",
       " ('solemnly', 0.9567469358444214),\n",
       " ('shivering', 0.9551138877868652),\n",
       " ('stammering', 0.9547591209411621),\n",
       " ('raising', 0.9533906579017639)]"
      ]
     },
     "execution_count": 16,
     "metadata": {},
     "output_type": "execute_result"
    }
   ],
   "source": [
    "skipg.wv.most_similar('arwen')"
   ]
  },
  {
   "cell_type": "code",
   "execution_count": 17,
   "metadata": {},
   "outputs": [
    {
     "data": {
      "text/plain": [
       "[('l®thien', 0.9885807037353516),\n",
       " ('palan-dnriel', 0.9783605337142944),\n",
       " ('maggot', 0.9774553775787354),\n",
       " ('limb', 0.9769629240036011),\n",
       " ('sn', 0.9761889576911926),\n",
       " ('goldberry', 0.9756543636322021),\n",
       " ('hints', 0.9738003015518188),\n",
       " ('thorin', 0.9735133647918701),\n",
       " ('edrendil', 0.9727005362510681),\n",
       " ('shouting', 0.972480058670044)]"
      ]
     },
     "execution_count": 17,
     "metadata": {},
     "output_type": "execute_result"
    }
   ],
   "source": [
    "wvec.wv.most_similar('bombadil')"
   ]
  },
  {
   "cell_type": "code",
   "execution_count": 18,
   "metadata": {},
   "outputs": [
    {
     "data": {
      "text/plain": [
       "[('balin', 0.9466532468795776),\n",
       " ('hbma', 0.9405666589736938),\n",
       " (\"'gandalf\", 0.93732750415802),\n",
       " ('ranger', 0.9370142221450806),\n",
       " ('party', 0.9356539845466614),\n",
       " ('halfling', 0.9303222298622131),\n",
       " ('gamling', 0.9298248291015625),\n",
       " ('council', 0.9267533421516418),\n",
       " ('maggot', 0.9261330366134644),\n",
       " ('galdor', 0.9255490303039551)]"
      ]
     },
     "execution_count": 18,
     "metadata": {},
     "output_type": "execute_result"
    }
   ],
   "source": [
    "skipg.wv.most_similar('bombadil')"
   ]
  },
  {
   "cell_type": "code",
   "execution_count": 19,
   "metadata": {},
   "outputs": [
    {
     "data": {
      "text/plain": [
       "[(\"o'clock\", 0.975773811340332),\n",
       " ('rapids', 0.9673560857772827),\n",
       " ('events', 0.9587860703468323),\n",
       " ('moot', 0.958209216594696),\n",
       " ('daylight', 0.955962061882019),\n",
       " ('supper', 0.955619752407074),\n",
       " ('archet', 0.9545978307723999),\n",
       " ('buckland', 0.9536428451538086),\n",
       " ('amazing', 0.9528564810752869),\n",
       " ('bree', 0.9511289596557617)]"
      ]
     },
     "execution_count": 19,
     "metadata": {},
     "output_type": "execute_result"
    }
   ],
   "source": [
    "wvec.wv.most_similar('beginning')"
   ]
  },
  {
   "cell_type": "code",
   "execution_count": 20,
   "metadata": {},
   "outputs": [
    {
     "data": {
      "text/plain": [
       "[('feast', 0.9360736608505249),\n",
       " ('recall', 0.9293016791343689),\n",
       " ('finding', 0.9236054420471191),\n",
       " ('adventure', 0.9222742319107056),\n",
       " ('discovered', 0.9220582246780396),\n",
       " ('crickhollow', 0.9219976663589478),\n",
       " ('ordered', 0.9208730459213257),\n",
       " ('parting', 0.9206583499908447),\n",
       " ('perceive', 0.9204188585281372),\n",
       " ('impossible', 0.920349657535553)]"
      ]
     },
     "execution_count": 20,
     "metadata": {},
     "output_type": "execute_result"
    }
   ],
   "source": [
    "skipg.wv.most_similar('beginning')"
   ]
  },
  {
   "cell_type": "code",
   "execution_count": 21,
   "metadata": {},
   "outputs": [
    {
     "data": {
      "text/plain": [
       "[('ringwraiths', 0.9055027365684509),\n",
       " ('enemy', 0.8884632587432861),\n",
       " ('war', 0.8869511485099792),\n",
       " ('elves', 0.8822416067123413),\n",
       " ('nine', 0.881231963634491),\n",
       " ('paths', 0.8787387609481812),\n",
       " ('world', 0.8738198280334473),\n",
       " ('battle', 0.8674814105033875),\n",
       " ('fulfil', 0.8671588897705078),\n",
       " ('rohirrim', 0.8663228750228882),\n",
       " ('future', 0.86480712890625),\n",
       " ('gondor', 0.8631766438484192),\n",
       " ('windings', 0.8627133369445801),\n",
       " ('ores', 0.8615931272506714),\n",
       " ('beornings', 0.8596514463424683),\n",
       " ('city', 0.8558559417724609),\n",
       " ('isengard', 0.8553903698921204),\n",
       " ('outlands', 0.8550843000411987),\n",
       " ('custom', 0.8544521331787109),\n",
       " ('parts', 0.8540695905685425),\n",
       " ('rivendell', 0.8529644012451172),\n",
       " ('peace', 0.8524543642997742),\n",
       " ('riders', 0.8520135879516602),\n",
       " ('bred', 0.8506495952606201),\n",
       " ('ents', 0.8503402471542358)]"
      ]
     },
     "execution_count": 21,
     "metadata": {},
     "output_type": "execute_result"
    }
   ],
   "source": [
    "wvec.wv.most_similar('shire', topn=25)"
   ]
  },
  {
   "cell_type": "code",
   "execution_count": 22,
   "metadata": {},
   "outputs": [
    {
     "data": {
      "text/plain": [
       "[('nine', 0.8754252791404724),\n",
       " ('truth', 0.8732672929763794),\n",
       " ('middle-earth', 0.8700699806213379),\n",
       " ('rivendell', 0.8648386001586914),\n",
       " ('perished', 0.8646013736724854),\n",
       " ('galadhrim', 0.8599073886871338),\n",
       " ('quest', 0.8585939407348633),\n",
       " ('defence', 0.8573663234710693),\n",
       " ('halflings', 0.857085645198822),\n",
       " ('children', 0.8564490675926208),\n",
       " ('story', 0.8534996509552002),\n",
       " ('legends', 0.8528523445129395),\n",
       " ('order', 0.8528256416320801),\n",
       " ('history', 0.8527851104736328),\n",
       " ('peril', 0.8516143560409546),\n",
       " ('mirkwood', 0.8510025143623352),\n",
       " ('tales', 0.8496300578117371),\n",
       " ('bree', 0.849562406539917),\n",
       " ('count', 0.8490866422653198),\n",
       " ('doings', 0.8482289910316467),\n",
       " ('lothlurien', 0.8458220958709717),\n",
       " ('hunters', 0.8453497290611267),\n",
       " ('wilderness', 0.8449330925941467),\n",
       " ('news', 0.8446534872055054),\n",
       " ('perils', 0.8430689573287964)]"
      ]
     },
     "execution_count": 22,
     "metadata": {},
     "output_type": "execute_result"
    }
   ],
   "source": [
    "skipg.wv.most_similar('shire', topn=25)"
   ]
  },
  {
   "cell_type": "code",
   "execution_count": 23,
   "metadata": {},
   "outputs": [
    {
     "data": {
      "text/plain": [
       "[('enemy', 0.8938414454460144),\n",
       " ('journey', 0.88094562292099),\n",
       " ('company', 0.8700255155563354),\n",
       " ('word', 0.8694908022880554),\n",
       " ('story', 0.8671610355377197),\n",
       " ('strength', 0.8656622171401978),\n",
       " ('place', 0.8581945300102234),\n",
       " ('work', 0.8575025796890259),\n",
       " ('council', 0.8515850305557251),\n",
       " ('just', 0.8482983708381653),\n",
       " ('tale', 0.8472678661346436),\n",
       " ('parting', 0.8464469909667969),\n",
       " ('watch', 0.8458412885665894),\n",
       " ('choice', 0.8444128036499023),\n",
       " ('day', 0.8408998250961304),\n",
       " ('beginning', 0.8391226530075073),\n",
       " ('home', 0.8389843702316284),\n",
       " ('ending', 0.8388870358467102),\n",
       " ('burden', 0.8375438451766968),\n",
       " ('same', 0.8366794586181641),\n",
       " ('given', 0.8358065485954285),\n",
       " ('power', 0.8343549370765686),\n",
       " ('way', 0.8336449861526489),\n",
       " ('errand', 0.8334192037582397),\n",
       " ('quarrel', 0.8332650065422058)]"
      ]
     },
     "execution_count": 23,
     "metadata": {},
     "output_type": "execute_result"
    }
   ],
   "source": [
    "wvec.wv.most_similar('ring', topn=25)"
   ]
  },
  {
   "cell_type": "code",
   "execution_count": 24,
   "metadata": {},
   "outputs": [
    {
     "data": {
      "text/plain": [
       "[('enemy', 0.8354686498641968),\n",
       " ('burden', 0.806827187538147),\n",
       " ('council', 0.7940381765365601),\n",
       " ('strength', 0.7914930582046509),\n",
       " ('wisdom', 0.7823638916015625),\n",
       " ('fate', 0.7779597640037537),\n",
       " ('saruman', 0.7767810821533203),\n",
       " ('family', 0.7741245031356812),\n",
       " ('sauron', 0.7740589380264282),\n",
       " ('account', 0.7728832364082336),\n",
       " ('finger', 0.7724927067756653),\n",
       " ('folly', 0.771098792552948),\n",
       " ('grief', 0.7706279158592224),\n",
       " ('death', 0.7664724588394165),\n",
       " ('weight', 0.7655009031295776),\n",
       " ('treasure', 0.7619128227233887),\n",
       " ('desire', 0.7619084119796753),\n",
       " ('quest', 0.7606112360954285),\n",
       " ('master', 0.7590110301971436),\n",
       " ('word', 0.7563979029655457),\n",
       " ('final', 0.7549488544464111),\n",
       " ('madness', 0.7526630759239197),\n",
       " ('key', 0.7524664998054504),\n",
       " ('bearer', 0.7504841685295105),\n",
       " ('mood', 0.7502917051315308)]"
      ]
     },
     "execution_count": 24,
     "metadata": {},
     "output_type": "execute_result"
    }
   ],
   "source": [
    "skipg.wv.most_similar('ring', topn=25)"
   ]
  },
  {
   "cell_type": "markdown",
   "metadata": {},
   "source": [
    "### Print Results of Cosine Similarity"
   ]
  },
  {
   "cell_type": "code",
   "execution_count": 31,
   "metadata": {},
   "outputs": [
    {
     "data": {
      "text/plain": [
       "(\"Cosine similarity between 'ring' and 'story' - CBOW : \", 0.8671610517935457)"
      ]
     },
     "execution_count": 31,
     "metadata": {},
     "output_type": "execute_result"
    }
   ],
   "source": [
    "# CBOW results\n",
    "\n",
    "f\"Cosine similarity between 'ring' and 'story' - CBOW : \", wvec.wv.similarity('ring', 'story')"
   ]
  },
  {
   "cell_type": "code",
   "execution_count": 32,
   "metadata": {},
   "outputs": [
    {
     "data": {
      "text/plain": [
       "(\"Cosine similarity between 'shire' and 'war' - CBOW : \", 0.8869511711975223)"
      ]
     },
     "execution_count": 32,
     "metadata": {},
     "output_type": "execute_result"
    }
   ],
   "source": [
    "f\"Cosine similarity between 'shire' and 'war' - CBOW : \", wvec.wv.similarity('shire', 'war')"
   ]
  },
  {
   "cell_type": "code",
   "execution_count": 33,
   "metadata": {},
   "outputs": [
    {
     "data": {
      "text/plain": [
       "(\"Cosine similarity between 'ring' and 'story' - CBOW : \", 0.7298129787501337)"
      ]
     },
     "execution_count": 33,
     "metadata": {},
     "output_type": "execute_result"
    }
   ],
   "source": [
    "# Skip-Gram results\n",
    "\n",
    "f\"Cosine similarity between 'ring' and 'story' - CBOW : \", skipg.wv.similarity('ring', 'story')"
   ]
  },
  {
   "cell_type": "code",
   "execution_count": 34,
   "metadata": {},
   "outputs": [
    {
     "data": {
      "text/plain": [
       "(\"Cosine similarity between 'shire' and 'war' - CBOW : \", 0.8056954717263576)"
      ]
     },
     "execution_count": 34,
     "metadata": {},
     "output_type": "execute_result"
    }
   ],
   "source": [
    "f\"Cosine similarity between 'shire' and 'war' - CBOW : \", skipg.wv.similarity('shire', 'war')"
   ]
  },
  {
   "cell_type": "code",
   "execution_count": null,
   "metadata": {},
   "outputs": [],
   "source": []
  }
 ],
 "metadata": {
  "kernelspec": {
   "display_name": "Python 3",
   "language": "python",
   "name": "python3"
  },
  "language_info": {
   "codemirror_mode": {
    "name": "ipython",
    "version": 3
   },
   "file_extension": ".py",
   "mimetype": "text/x-python",
   "name": "python",
   "nbconvert_exporter": "python",
   "pygments_lexer": "ipython3",
   "version": "3.6.4"
  }
 },
 "nbformat": 4,
 "nbformat_minor": 2
}
